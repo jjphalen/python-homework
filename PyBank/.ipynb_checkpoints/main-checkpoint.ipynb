{
 "cells": [
  {
   "cell_type": "code",
   "execution_count": 25,
   "metadata": {},
   "outputs": [],
   "source": [
    "#to import csv library and Path\n",
    "from pathlib import Path\n",
    "import csv\n",
    "csvpath = Path('budget_data.csv')"
   ]
  },
  {
   "cell_type": "code",
   "execution_count": 26,
   "metadata": {},
   "outputs": [],
   "source": [
    "#Variables\n",
    "Dates = []\n",
    "PNLs = []\n",
    "Total_Months = 0\n",
    "Net_PNL = 0\n",
    "Avg_PNL_Chg = 0\n",
    "Headers = []\n",
    "Rows = []\n",
    "line_num = 0"
   ]
  },
  {
   "cell_type": "code",
   "execution_count": 27,
   "metadata": {},
   "outputs": [],
   "source": [
    "#seperate the columns of the csv into variables\n",
    "with open(csvpath, 'r') as csvfile:\n",
    "    csvreader = csv.reader(csvfile, delimiter=',')\n",
    "    Headers = next(csvreader)\n",
    "    line_num += 1\n",
    "    for row in csvreader:\n",
    "        pnl = int(row[1])\n",
    "        date = str(row[0])\n",
    "        PNLs.append(pnl)\n",
    "        Dates.append(date)"
   ]
  },
  {
   "cell_type": "code",
   "execution_count": 28,
   "metadata": {},
   "outputs": [],
   "source": [
    "#first analysis questions\n",
    "Net_PNL = sum(PNLs)\n",
    "Total_Months = len(Dates)"
   ]
  },
  {
   "cell_type": "code",
   "execution_count": 29,
   "metadata": {},
   "outputs": [],
   "source": [
    "#calc the monthly pnl change\n",
    "Monthly_PNL_Change = []\n",
    "for i in range(len(PNLs)):\n",
    "    if i == 0:\n",
    "        monthly_change = 0\n",
    "    else:\n",
    "        monthly_change = PNLs[i] - PNLs[i-1]\n",
    "        Monthly_PNL_Change.append(monthly_change)"
   ]
  },
  {
   "cell_type": "code",
   "execution_count": 30,
   "metadata": {},
   "outputs": [
    {
     "data": {
      "text/plain": [
       "-2315.12"
      ]
     },
     "execution_count": 30,
     "metadata": {},
     "output_type": "execute_result"
    }
   ],
   "source": [
    "#average pnl change\n",
    "Average = round(sum(Monthly_PNL_Change) / len(Monthly_PNL_Change),2)\n",
    "Average"
   ]
  },
  {
   "cell_type": "code",
   "execution_count": 32,
   "metadata": {},
   "outputs": [
    {
     "data": {
      "text/plain": [
       "1926159"
      ]
     },
     "execution_count": 32,
     "metadata": {},
     "output_type": "execute_result"
    }
   ],
   "source": [
    "#max pnl change\n",
    "max_PNL_chg=max(Monthly_PNL_Change)\n",
    "max_PNL_chg"
   ]
  },
  {
   "cell_type": "code",
   "execution_count": 34,
   "metadata": {},
   "outputs": [
    {
     "data": {
      "text/plain": [
       "-2196167"
      ]
     },
     "execution_count": 34,
     "metadata": {},
     "output_type": "execute_result"
    }
   ],
   "source": [
    "#min pnl change\n",
    "min_PNL_chg=min(Monthly_PNL_Change)\n",
    "min_PNL_chg"
   ]
  },
  {
   "cell_type": "code",
   "execution_count": 35,
   "metadata": {},
   "outputs": [
    {
     "data": {
      "text/plain": [
       "25"
      ]
     },
     "execution_count": 35,
     "metadata": {},
     "output_type": "execute_result"
    }
   ],
   "source": [
    "#location of max and min change to find in Dates variable\n",
    "max_loc = Monthly_PNL_Change.index(max_PNL_chg) +1\n",
    "max_loc"
   ]
  },
  {
   "cell_type": "code",
   "execution_count": 36,
   "metadata": {},
   "outputs": [
    {
     "data": {
      "text/plain": [
       "44"
      ]
     },
     "execution_count": 36,
     "metadata": {},
     "output_type": "execute_result"
    }
   ],
   "source": [
    "#location of max and min change to find in Dates variable\n",
    "min_loc = Monthly_PNL_Change.index(min_PNL_chg) +1\n",
    "min_loc"
   ]
  },
  {
   "cell_type": "code",
   "execution_count": 37,
   "metadata": {},
   "outputs": [
    {
     "data": {
      "text/plain": [
       "'Feb-2012'"
      ]
     },
     "execution_count": 37,
     "metadata": {},
     "output_type": "execute_result"
    }
   ],
   "source": [
    "#max pnl change date\n",
    "max_PNL_chg_month = Dates[max_loc]\n",
    "max_PNL_chg_month"
   ]
  },
  {
   "cell_type": "code",
   "execution_count": 38,
   "metadata": {},
   "outputs": [
    {
     "data": {
      "text/plain": [
       "'Sep-2013'"
      ]
     },
     "execution_count": 38,
     "metadata": {},
     "output_type": "execute_result"
    }
   ],
   "source": [
    "#min pnl change date\n",
    "min_PNL_chg_month = Dates[min_loc]\n",
    "min_PNL_chg_month"
   ]
  },
  {
   "cell_type": "code",
   "execution_count": 39,
   "metadata": {},
   "outputs": [
    {
     "name": "stdout",
     "output_type": "stream",
     "text": [
      "Financial Analysis\n",
      "--------------------------------------------------\n",
      "Total Months: 86\n",
      "Total: $38382578\n",
      "Average Change: $-2315.12\n",
      "Greatest Increase in Profits: Feb-2012 $1926159\n",
      "Greatest Decrease in Profits: Sep-2013 $(-2196167)\n"
     ]
    }
   ],
   "source": [
    "#print the results\n",
    "line1 = \"Financial Analysis\"\n",
    "line2 = \"--------------------------------------------------\"\n",
    "line3 = f\"Total Months: {Total_Months}\"\n",
    "line4 = f\"Total: ${Net_PNL}\"\n",
    "line5 = f\"Average Change: ${Average}\"\n",
    "line6 = f\"Greatest Increase in Profits: {max_PNL_chg_month} ${max_PNL_chg}\"\n",
    "line7 = f\"Greatest Decrease in Profits: {min_PNL_chg_month} $({min_PNL_chg})\"\n",
    "Financial_Analysis = (line1 + '\\n',line2 + '\\n',line3 + '\\n',line4 + '\\n',line5 + '\\n',line6 + '\\n',line7 + '\\n')\n",
    "\n",
    "print(line1)\n",
    "print(line2)\n",
    "print(line3)\n",
    "print(line4)\n",
    "print(line5)\n",
    "print(line6)\n",
    "print(line7)\n",
    "\n",
    "with open('./financial_analysis.txt',\"w\") as write_file:\n",
    "    write_file.writelines(Financial_Analysis)\n",
    "\n",
    "    #used this to learn string format: https://matthew-brett.github.io/teaching/string_formatting.html\n",
    "    #used this to learn writelines: and https://stackoverflow.com/questions/21019942/write-multiple-lines-in-a-file-in-python\n",
    "    #used this to learn line breaks: https://stackoverflow.com/questions/13730107/writelines-writes-lines-without-newline-just-fills-the-file/42757094"
   ]
  },
  {
   "cell_type": "code",
   "execution_count": null,
   "metadata": {},
   "outputs": [],
   "source": []
  }
 ],
 "metadata": {
  "kernelspec": {
   "display_name": "Python 3",
   "language": "python",
   "name": "python3"
  },
  "language_info": {
   "codemirror_mode": {
    "name": "ipython",
    "version": 3
   },
   "file_extension": ".py",
   "mimetype": "text/x-python",
   "name": "python",
   "nbconvert_exporter": "python",
   "pygments_lexer": "ipython3",
   "version": "3.7.4"
  }
 },
 "nbformat": 4,
 "nbformat_minor": 4
}
